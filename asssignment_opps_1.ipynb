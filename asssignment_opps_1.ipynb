{
 "cells": [
  {
   "cell_type": "code",
   "execution_count": 5,
   "id": "97bd1a58-9044-4599-ac64-b32b06875f6c",
   "metadata": {},
   "outputs": [],
   "source": [
    "##Q1, Create a vehicle class with an init method having instance variables as name_of_vehicle, max_speed\n",
    "##and average_of_vehicle."
   ]
  },
  {
   "cell_type": "code",
   "execution_count": 57,
   "id": "14b321ab-09fc-449c-a4e2-c08efc8845cd",
   "metadata": {},
   "outputs": [],
   "source": [
    "class vehicle:\n",
    "    \n",
    "    def __init__(self,name_of_vehicle,max_speed,average_of_vehicle):\n",
    "        self.name_of_vehicle=name_of_vehicle\n",
    "        self.max_speed=max_speed\n",
    "        self.average_of_vehicle=average_of_vehicle\n",
    "        \n",
    "    def return_nameofvehicle(self):\n",
    "        return self.name_of_vehicle"
   ]
  },
  {
   "cell_type": "code",
   "execution_count": 58,
   "id": "c947957b-c609-4d81-9d7c-d7d8224275ba",
   "metadata": {},
   "outputs": [],
   "source": [
    "vehicle_obj=vehicle(\"car\",100,66)"
   ]
  },
  {
   "cell_type": "code",
   "execution_count": 59,
   "id": "db6e6656-9070-467d-a9b8-041a512c96d7",
   "metadata": {},
   "outputs": [],
   "source": [
    "##Q2. Create a child class car from the vehicle class created in Que 1, which will inherit the vehicle class.\n",
    "##Create a method named seating_capacity which takes capacity as an argument and returns the name of\n",
    "##the vehicle and its seating capacity."
   ]
  },
  {
   "cell_type": "code",
   "execution_count": 63,
   "id": "8194ac73-f190-475e-b779-3531946e661d",
   "metadata": {},
   "outputs": [],
   "source": [
    "class car1(vehicle):\n",
    "    \n",
    "    def __init__(self,capacity,name_of_vehicle,max_speed,average_of_vehicle):\n",
    "        vehicle.__init__(self,name_of_vehicle,max_speed,average_of_vehicle)\n",
    "        self.capacity=capacity\n",
    "        \n",
    "    def seating_capacity(self):\n",
    "        return self.capacity , vehicle.return_nameofvehicle(self)"
   ]
  },
  {
   "cell_type": "code",
   "execution_count": 64,
   "id": "13248028-3f40-4d59-9317-a9022e4b1601",
   "metadata": {},
   "outputs": [],
   "source": [
    "car=car1(5,\"car\",10,45)"
   ]
  },
  {
   "cell_type": "code",
   "execution_count": 65,
   "id": "ba540b46-bff2-4906-872e-8ff5656836a0",
   "metadata": {},
   "outputs": [
    {
     "data": {
      "text/plain": [
       "(5, 'car')"
      ]
     },
     "execution_count": 65,
     "metadata": {},
     "output_type": "execute_result"
    }
   ],
   "source": [
    "car.seating_capacity()"
   ]
  },
  {
   "cell_type": "code",
   "execution_count": 7,
   "id": "a198dc96-4462-4f48-af3f-7e5415baa17f",
   "metadata": {},
   "outputs": [],
   "source": [
    "##What is multiple inheritance? Write a python code to demonstrate multiple inheritance."
   ]
  },
  {
   "cell_type": "code",
   "execution_count": 66,
   "id": "bd874520-61e1-4084-8708-c5791e28763f",
   "metadata": {},
   "outputs": [],
   "source": [
    "##Multiple inheritance is a feature in object-oriented programming where a class can inherit attributes and behaviors from multiple parent classes. In Python, multiple inheritance is supported, allowing a class to inherit from multiple base classes."
   ]
  },
  {
   "cell_type": "code",
   "execution_count": 11,
   "id": "c6073b5f-4d84-4c48-bcd7-2ac2b7e0e50c",
   "metadata": {},
   "outputs": [],
   "source": [
    "class Animal:\n",
    "    def __init__(self, name):\n",
    "        self.name = name\n",
    "    def eat(self):\n",
    "        print(f\"{self.name} is eating.\")\n",
    "    def sleep(self):\n",
    "        print(f\"{self.name} is sleeping.\")\n",
    "    \n",
    "  "
   ]
  },
  {
   "cell_type": "code",
   "execution_count": 12,
   "id": "385e9b92-93f7-4046-b0bb-cbd0bf1bfd85",
   "metadata": {},
   "outputs": [],
   "source": [
    "class Flyable:\n",
    "    def fly(self):\n",
    "        print(f\"{self.name} is flying.\")"
   ]
  },
  {
   "cell_type": "code",
   "execution_count": 13,
   "id": "efc98e9b-f687-4586-b02c-19c398a257d4",
   "metadata": {},
   "outputs": [],
   "source": [
    "class Bird(Animal, Flyable):\n",
    "    def __init__(self, name):\n",
    "        \n",
    "        Animal.__init__(self, name)\n",
    "        Flyable.__init__(self)\n",
    "\n",
    "    def chirp(self):\n",
    "        print(f\"{self.name} is chirping.\")"
   ]
  },
  {
   "cell_type": "code",
   "execution_count": 14,
   "id": "a18c2e70-47d2-4e78-8b45-f4b446de73b1",
   "metadata": {},
   "outputs": [],
   "source": [
    "my_bird = Bird(\"Sparrow\")"
   ]
  },
  {
   "cell_type": "code",
   "execution_count": 15,
   "id": "0acba548-e721-4715-b8a5-da5100f4bde4",
   "metadata": {},
   "outputs": [
    {
     "name": "stdout",
     "output_type": "stream",
     "text": [
      "Sparrow is eating.\n"
     ]
    }
   ],
   "source": [
    "my_bird.eat()"
   ]
  },
  {
   "cell_type": "code",
   "execution_count": 16,
   "id": "ddb3f688-f977-4bee-87d9-8c954c68fd41",
   "metadata": {},
   "outputs": [
    {
     "name": "stdout",
     "output_type": "stream",
     "text": [
      "Sparrow is sleeping.\n"
     ]
    }
   ],
   "source": [
    "my_bird.sleep()"
   ]
  },
  {
   "cell_type": "code",
   "execution_count": 67,
   "id": "71499440-6ce4-4f27-b129-8c811342e448",
   "metadata": {},
   "outputs": [
    {
     "name": "stdout",
     "output_type": "stream",
     "text": [
      "Sparrow is sleeping.\n"
     ]
    }
   ],
   "source": [
    "my_bird.sleep()"
   ]
  },
  {
   "cell_type": "code",
   "execution_count": 68,
   "id": "fd3416fc-35ab-4c6e-a60f-62a3813f539a",
   "metadata": {},
   "outputs": [],
   "source": [
    "##Q4. What are getter and setter in python? Create a class and create a getter and a setter method in this\n",
    "##class."
   ]
  },
  {
   "cell_type": "code",
   "execution_count": 69,
   "id": "7abbfe48-9383-4675-828f-49e9cc9adf97",
   "metadata": {},
   "outputs": [],
   "source": [
    "##Getter Method: A getter method, also known as an accessor method, is used to retrieve the value of a private attribute. It provides read-only access to the attribute.\n",
    "\n",
    "##Setter Method: A setter method, also known as a mutator method, is used to modify the value of a private attribute. It provides write access to the attribute, allowing controlled modification."
   ]
  },
  {
   "cell_type": "code",
   "execution_count": 71,
   "id": "f1cf82d1-c74b-4eeb-b69e-c7846781c22f",
   "metadata": {},
   "outputs": [],
   "source": [
    "class Student:\n",
    "    def __init__(self, name):\n",
    "        self._name = name \n",
    "    def get_name(self):\n",
    "        return self._name\n",
    "    def set_name(self, name):\n",
    "        self._name = name\n",
    "        "
   ]
  },
  {
   "cell_type": "code",
   "execution_count": 72,
   "id": "8b7e89c2-f4aa-4719-bb43-6feb6640fb62",
   "metadata": {},
   "outputs": [],
   "source": [
    "student = Student(\"John\")"
   ]
  },
  {
   "cell_type": "code",
   "execution_count": 73,
   "id": "c0985b54-97cd-4373-9996-78a0aa5c8f87",
   "metadata": {},
   "outputs": [
    {
     "data": {
      "text/plain": [
       "'John'"
      ]
     },
     "execution_count": 73,
     "metadata": {},
     "output_type": "execute_result"
    }
   ],
   "source": [
    "student.get_name()"
   ]
  },
  {
   "cell_type": "code",
   "execution_count": 74,
   "id": "c1b0efa5-df3a-4c42-b71a-51b072b6bd68",
   "metadata": {},
   "outputs": [],
   "source": [
    "student.set_name(\"Diksha\")"
   ]
  },
  {
   "cell_type": "code",
   "execution_count": 75,
   "id": "1b7a31c2-ff84-4ad0-968f-0183a5c5b4a4",
   "metadata": {},
   "outputs": [
    {
     "data": {
      "text/plain": [
       "'Diksha'"
      ]
     },
     "execution_count": 75,
     "metadata": {},
     "output_type": "execute_result"
    }
   ],
   "source": [
    "student.get_name()"
   ]
  },
  {
   "cell_type": "code",
   "execution_count": 76,
   "id": "3536e7d4-6709-483a-b4dc-66361c39f776",
   "metadata": {},
   "outputs": [],
   "source": [
    "## What is method overriding in python? Write a python code to demonstrate method overriding."
   ]
  },
  {
   "cell_type": "code",
   "execution_count": 77,
   "id": "7c4db61a-ca46-43c9-9c19-117f73b476dd",
   "metadata": {},
   "outputs": [],
   "source": [
    "## Method overriding is a feature in object-oriented programming where a subclass provides a different implementation of a method that is already defined in its superclass. This allows the subclass to customize the behavior of the inherited method."
   ]
  },
  {
   "cell_type": "code",
   "execution_count": 78,
   "id": "c7aa57db-88de-4339-b885-eb98e1138875",
   "metadata": {},
   "outputs": [],
   "source": [
    "class Animal:\n",
    "    def speak(self):\n",
    "        print(\"The animal makes a sound.\")"
   ]
  },
  {
   "cell_type": "code",
   "execution_count": 79,
   "id": "d9ce0283-d3d7-4eb3-97c3-a784502a5cdf",
   "metadata": {},
   "outputs": [],
   "source": [
    "class Dog(Animal):\n",
    "    def speak(self):\n",
    "        print(\"The dog barks.\")\n"
   ]
  },
  {
   "cell_type": "code",
   "execution_count": 80,
   "id": "05be4a53-6dc1-4337-a012-e2b45d544fb5",
   "metadata": {},
   "outputs": [],
   "source": [
    "class Cat(Animal):\n",
    "    def speak(self):\n",
    "        print(\"The cat meows.\")\n"
   ]
  },
  {
   "cell_type": "code",
   "execution_count": 81,
   "id": "0d0ac54d-ed64-4ce2-b118-23e65c0f3080",
   "metadata": {},
   "outputs": [],
   "source": [
    "animal = Animal()"
   ]
  },
  {
   "cell_type": "code",
   "execution_count": 82,
   "id": "c684f931-a5e3-4f53-8979-a920a29af795",
   "metadata": {},
   "outputs": [
    {
     "name": "stdout",
     "output_type": "stream",
     "text": [
      "The animal makes a sound.\n"
     ]
    }
   ],
   "source": [
    "animal.speak()"
   ]
  },
  {
   "cell_type": "code",
   "execution_count": 83,
   "id": "a8dca31e-3a1e-44cb-afb6-e851e26b1990",
   "metadata": {},
   "outputs": [],
   "source": [
    "dog=Dog()"
   ]
  },
  {
   "cell_type": "code",
   "execution_count": 84,
   "id": "4e7005ff-49ca-405f-b21b-0fee5c42cb6a",
   "metadata": {},
   "outputs": [
    {
     "name": "stdout",
     "output_type": "stream",
     "text": [
      "The dog barks.\n"
     ]
    }
   ],
   "source": [
    "dog.speak()"
   ]
  },
  {
   "cell_type": "code",
   "execution_count": 85,
   "id": "dc528030-483d-48cf-aeba-f8df536a1fe8",
   "metadata": {},
   "outputs": [],
   "source": [
    "cat=Cat()"
   ]
  },
  {
   "cell_type": "code",
   "execution_count": 86,
   "id": "f76fd1e0-31eb-4130-a187-fb60695a2ba2",
   "metadata": {},
   "outputs": [
    {
     "name": "stdout",
     "output_type": "stream",
     "text": [
      "The cat meows.\n"
     ]
    }
   ],
   "source": [
    "cat.speak()"
   ]
  },
  {
   "cell_type": "code",
   "execution_count": null,
   "id": "9c80bc56-d42e-4827-b933-4e00632385ea",
   "metadata": {},
   "outputs": [],
   "source": []
  }
 ],
 "metadata": {
  "kernelspec": {
   "display_name": "Python 3 (ipykernel)",
   "language": "python",
   "name": "python3"
  },
  "language_info": {
   "codemirror_mode": {
    "name": "ipython",
    "version": 3
   },
   "file_extension": ".py",
   "mimetype": "text/x-python",
   "name": "python",
   "nbconvert_exporter": "python",
   "pygments_lexer": "ipython3",
   "version": "3.10.8"
  }
 },
 "nbformat": 4,
 "nbformat_minor": 5
}
