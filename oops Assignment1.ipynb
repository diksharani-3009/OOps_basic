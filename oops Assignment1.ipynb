{
 "cells": [
  {
   "cell_type": "code",
   "execution_count": 1,
   "id": "c30ad801-8c4f-4534-9319-a79d06d565f8",
   "metadata": {},
   "outputs": [],
   "source": [
    "##Explain Class and Object with respect to Object-Oriented Programming. Give a suitable example."
   ]
  },
  {
   "cell_type": "code",
   "execution_count": 2,
   "id": "4a2805aa-702f-4b1e-8668-3ae58ce00747",
   "metadata": {},
   "outputs": [],
   "source": [
    "## class - it is a blueprint\n",
    "## object - it is the instance of class"
   ]
  },
  {
   "cell_type": "code",
   "execution_count": 15,
   "id": "0e32b403-2f00-4498-821a-7beb275c36bd",
   "metadata": {},
   "outputs": [],
   "source": [
    "class car:\n",
    "    def __init__(self, brand, model, color):\n",
    "        self.brand = brand\n",
    "        self.model = model\n",
    "        self.color = color\n",
    "    def start_engine(self):\n",
    "        print(\"Engine started.\")\n",
    "        \n",
    "    def stop_engine(self):\n",
    "        print(\"Engine stopped.\")"
   ]
  },
  {
   "cell_type": "code",
   "execution_count": 16,
   "id": "2f38bd6a-0941-4d0c-8db2-9faeafcc9d23",
   "metadata": {},
   "outputs": [],
   "source": [
    "## creating object of car class"
   ]
  },
  {
   "cell_type": "code",
   "execution_count": 17,
   "id": "beb41e3d-2d83-4705-a7bf-d991d9698f9f",
   "metadata": {},
   "outputs": [],
   "source": [
    "car1=car(\"Toyota\",\"corolla\",\"Blue\")"
   ]
  },
  {
   "cell_type": "code",
   "execution_count": 18,
   "id": "d395d075-1f0c-4d8c-b246-012fbbb3d757",
   "metadata": {},
   "outputs": [],
   "source": [
    "## calling object method"
   ]
  },
  {
   "cell_type": "code",
   "execution_count": 20,
   "id": "f1305417-327e-485a-97b3-91d83583235f",
   "metadata": {},
   "outputs": [
    {
     "name": "stdout",
     "output_type": "stream",
     "text": [
      "Engine started.\n"
     ]
    }
   ],
   "source": [
    "car1.start_engine()"
   ]
  },
  {
   "cell_type": "code",
   "execution_count": 21,
   "id": "06559143-5ca1-4770-b8c0-63dd9cbdfcd5",
   "metadata": {},
   "outputs": [
    {
     "name": "stdout",
     "output_type": "stream",
     "text": [
      "Engine stopped.\n"
     ]
    }
   ],
   "source": [
    "car1.stop_engine()"
   ]
  },
  {
   "cell_type": "code",
   "execution_count": 22,
   "id": "9aa9d9cd-0241-4a0d-a028-c5d3d6eafa63",
   "metadata": {},
   "outputs": [],
   "source": [
    "## Name the four pillars of OOPs."
   ]
  },
  {
   "cell_type": "code",
   "execution_count": 23,
   "id": "472cade9-8667-485c-93a1-7530f4ab86ed",
   "metadata": {},
   "outputs": [
    {
     "data": {
      "text/plain": [
       "' Encapsulation\\n inheritance\\n polymosrphism\\n Abstraction'"
      ]
     },
     "execution_count": 23,
     "metadata": {},
     "output_type": "execute_result"
    }
   ],
   "source": [
    "\"\"\" Encapsulation\n",
    " inheritance\n",
    " polymosrphism\n",
    " Abstraction\"\"\""
   ]
  },
  {
   "cell_type": "code",
   "execution_count": 24,
   "id": "be84850a-bf0b-45a7-9179-d1902468ed3d",
   "metadata": {},
   "outputs": [],
   "source": [
    "##  Explain why the __init__() function is used. Give a suitable example."
   ]
  },
  {
   "cell_type": "code",
   "execution_count": 25,
   "id": "97b3a20a-e345-4114-8378-a0a7433789af",
   "metadata": {},
   "outputs": [
    {
     "data": {
      "text/plain": [
       "'The __init__() method is often referred to as the constructor of the class because it constructs or creates the object by setting its initial state. It allows us to provide default values or receive specific values for the attributes of the object during its creation.'"
      ]
     },
     "execution_count": 25,
     "metadata": {},
     "output_type": "execute_result"
    }
   ],
   "source": [
    "\"\"\"The __init__() method is often referred to as the constructor of the class because it constructs or creates the object by setting its initial state. It allows us to provide default values or receive specific values for the attributes of the object during its creation.\"\"\""
   ]
  },
  {
   "cell_type": "code",
   "execution_count": 26,
   "id": "49d15466-9426-4e16-a9e6-92f284d0688d",
   "metadata": {},
   "outputs": [],
   "source": [
    "class Person:\n",
    "    def __init__(self, name, age):\n",
    "        self.name = name\n",
    "        self.age = age\n",
    "\n",
    "    def introduce(self):\n",
    "        print(f\"My name is {self.name} and I am {self.age} years old.\")"
   ]
  },
  {
   "cell_type": "code",
   "execution_count": 27,
   "id": "56515c91-a961-453a-abad-bf96c8ec543c",
   "metadata": {},
   "outputs": [],
   "source": [
    "person1 = Person(\"Diksha\", 25)"
   ]
  },
  {
   "cell_type": "code",
   "execution_count": 28,
   "id": "c1282255-8744-4afa-81d0-ca0ae195c30b",
   "metadata": {},
   "outputs": [
    {
     "name": "stdout",
     "output_type": "stream",
     "text": [
      "My name is Diksha and I am 25 years old.\n"
     ]
    }
   ],
   "source": [
    "person1.introduce()"
   ]
  },
  {
   "cell_type": "code",
   "execution_count": 29,
   "id": "377fc6aa-b723-4e9c-99e2-24cf03444c53",
   "metadata": {},
   "outputs": [
    {
     "data": {
      "text/plain": [
       "'Diksha'"
      ]
     },
     "execution_count": 29,
     "metadata": {},
     "output_type": "execute_result"
    }
   ],
   "source": [
    "person1.name"
   ]
  },
  {
   "cell_type": "code",
   "execution_count": 30,
   "id": "d7372223-20e1-4b16-98c4-7647a465bcfb",
   "metadata": {},
   "outputs": [],
   "source": [
    "## Why self is used in OOPs?"
   ]
  },
  {
   "cell_type": "code",
   "execution_count": 31,
   "id": "9961ea84-733c-4839-83e9-ac308dd0cc1b",
   "metadata": {},
   "outputs": [
    {
     "data": {
      "text/plain": [
       "'the self keyword is used as a convention to refer to the current instance of a class within the class methods. It is a way to access and manipulate the attributes and methods of the current object.'"
      ]
     },
     "execution_count": 31,
     "metadata": {},
     "output_type": "execute_result"
    }
   ],
   "source": [
    "\"\"\"the self keyword is used as a convention to refer to the current instance of a class within the class methods. It is a way to access and manipulate the attributes and methods of the current object.\"\"\""
   ]
  },
  {
   "cell_type": "code",
   "execution_count": null,
   "id": "3a212dfb-ac88-47ff-ad1f-39a673af59ed",
   "metadata": {},
   "outputs": [],
   "source": [
    "##What is inheritance? Give an example for each type of inheritance."
   ]
  },
  {
   "cell_type": "code",
   "execution_count": 32,
   "id": "6cd88283-e18f-46a0-9b56-092e5442593a",
   "metadata": {},
   "outputs": [
    {
     "data": {
      "text/plain": [
       "'allows a class to inherit the properties and behaviors of another class. The class that is being inherited from is called the superclass or parent class, and the class that inherits is called the subclass or child class. Inheritance promotes code reuse, modularity, and the ability to create specialized classes based on existing ones.'"
      ]
     },
     "execution_count": 32,
     "metadata": {},
     "output_type": "execute_result"
    }
   ],
   "source": [
    "\"\"\"allows a class to inherit the properties and behaviors of another class. The class that is being inherited from is called the superclass or parent class, and the class that inherits is called the subclass or child class. Inheritance promotes code reuse, modularity, and the ability to create specialized classes based on existing ones.\"\"\""
   ]
  },
  {
   "cell_type": "code",
   "execution_count": 33,
   "id": "f9e46dd1-4a43-44e1-8b99-9512f0e274f1",
   "metadata": {},
   "outputs": [],
   "source": [
    "class Vehicle:\n",
    "    def __init__(self, brand):\n",
    "        self.brand = brand\n",
    "\n",
    "    def drive(self):\n",
    "        print(\"Driving the vehicle.\")"
   ]
  },
  {
   "cell_type": "code",
   "execution_count": 34,
   "id": "afbd1358-544e-4efa-854a-7d14d35ebf9e",
   "metadata": {},
   "outputs": [],
   "source": [
    "class Car(Vehicle):\n",
    "    def __init__(self, brand, model):\n",
    "        super().__init__(brand)\n",
    "        self.model = model\n",
    "class Car(Vehicle):\n",
    "    def __init__(self, brand, model):\n",
    "        super().__init__(brand)\n",
    "        self.model = model"
   ]
  },
  {
   "cell_type": "code",
   "execution_count": null,
   "id": "8fc606b1-3824-451d-beb3-2db6586f020f",
   "metadata": {},
   "outputs": [],
   "source": []
  }
 ],
 "metadata": {
  "kernelspec": {
   "display_name": "Python 3 (ipykernel)",
   "language": "python",
   "name": "python3"
  },
  "language_info": {
   "codemirror_mode": {
    "name": "ipython",
    "version": 3
   },
   "file_extension": ".py",
   "mimetype": "text/x-python",
   "name": "python",
   "nbconvert_exporter": "python",
   "pygments_lexer": "ipython3",
   "version": "3.10.8"
  }
 },
 "nbformat": 4,
 "nbformat_minor": 5
}
