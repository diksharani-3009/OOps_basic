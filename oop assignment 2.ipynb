{
 "cells": [
  {
   "cell_type": "code",
   "execution_count": 1,
   "id": "05fb1f5b-2098-4012-83a5-fbd576325821",
   "metadata": {},
   "outputs": [],
   "source": [
    "##What is Abstraction in OOPs? Explain with an example."
   ]
  },
  {
   "cell_type": "code",
   "execution_count": 2,
   "id": "af4c9115-5024-4475-9bb7-dc910e3d5837",
   "metadata": {},
   "outputs": [
    {
     "data": {
      "text/plain": [
       "'Abstraction in object-oriented programming refers to the process of hiding the internal complexities of an object and presenting only the essential features and functionalities to the user. It focuses on creating a simplified and high-level representation of an object, allowing users to interact with it without needing to understand its underlying implementation.'"
      ]
     },
     "execution_count": 2,
     "metadata": {},
     "output_type": "execute_result"
    }
   ],
   "source": [
    "\"\"\"Abstraction in object-oriented programming refers to the process of hiding the internal complexities of an object and presenting only the essential features and functionalities to the user. It focuses on creating a simplified and high-level representation of an object, allowing users to interact with it without needing to understand its underlying implementation.\"\"\""
   ]
  },
  {
   "cell_type": "code",
   "execution_count": 13,
   "id": "1bbed964-a847-4d08-8d91-9674d2b5855d",
   "metadata": {},
   "outputs": [],
   "source": [
    "import abc\n",
    "class pwskills:\n",
    "    @abc.abstractmethod\n",
    "    def students_details(self):\n",
    "        pass\n",
    "    @abc.abstractmethod\n",
    "    def student_assignment(self):\n",
    "        pass\n",
    "    @abc.abstractmethod\n",
    "    def student_marks(self):\n",
    "        pass"
   ]
  },
  {
   "cell_type": "code",
   "execution_count": 14,
   "id": "1eb9b872-715c-4b1f-841d-64876d12a10b",
   "metadata": {},
   "outputs": [],
   "source": [
    "class students_details(pwskills):\n",
    "    \n",
    "    def students_details(self):\n",
    "        return \"this is a mrthod for taking students details\"\n",
    "    def student_assignment(self):\n",
    "        return \"this is the meth for assing details for student\""
   ]
  },
  {
   "cell_type": "code",
   "execution_count": 15,
   "id": "1fd157ed-7c00-461a-9664-b99344744a73",
   "metadata": {},
   "outputs": [],
   "source": [
    "class data_science_masters(pwskills):\n",
    "    \n",
    "    def students_details(self):\n",
    "        return \"this is a mrthod for taking students details for data science\"\n",
    "    def student_assignment(self):\n",
    "        return \"this is the meth for assing details for student for data science\""
   ]
  },
  {
   "cell_type": "code",
   "execution_count": 16,
   "id": "f0b67dfa-f24f-4f4c-8b1f-484db0b7592b",
   "metadata": {},
   "outputs": [],
   "source": [
    "data_science=data_science_masters()"
   ]
  },
  {
   "cell_type": "code",
   "execution_count": 17,
   "id": "71343279-2ee1-4c64-872f-bf72dd46fa6f",
   "metadata": {},
   "outputs": [
    {
     "data": {
      "text/plain": [
       "'this is a mrthod for taking students details for data science'"
      ]
     },
     "execution_count": 17,
     "metadata": {},
     "output_type": "execute_result"
    }
   ],
   "source": [
    "data_science.students_details()"
   ]
  },
  {
   "cell_type": "code",
   "execution_count": 18,
   "id": "c762c219-55b9-44dd-867c-13d46219f92a",
   "metadata": {},
   "outputs": [],
   "source": [
    "data_science.student_marks()"
   ]
  },
  {
   "cell_type": "code",
   "execution_count": 3,
   "id": "2fbab8f5-2eb5-4ece-a393-f74a647968fa",
   "metadata": {},
   "outputs": [],
   "source": [
    "##Differentiate between Abstraction and Encapsulation. Explain with an example."
   ]
  },
  {
   "cell_type": "code",
   "execution_count": 4,
   "id": "c07d340e-034f-4a26-a750-91693a262952",
   "metadata": {},
   "outputs": [
    {
     "data": {
      "text/plain": [
       "\"Abstraction involves hiding unnecessary details and providing a simplified and high-level view of an object's functionalities. It focuses on defining interfaces and exposing essential features, while hiding the internal implementation.\\nEncapsulation, on the other hand, involves bundling data and methods together within a class and restricting access to the data by providing public methods. It focuses on data protection and ensures that the internal state of an object is accessed and modified through controlled mechanisms.\""
      ]
     },
     "execution_count": 4,
     "metadata": {},
     "output_type": "execute_result"
    }
   ],
   "source": [
    "\"\"\"Abstraction involves hiding unnecessary details and providing a simplified and high-level view of an object's functionalities. It focuses on defining interfaces and exposing essential features, while hiding the internal implementation.\n",
    "Encapsulation, on the other hand, involves bundling data and methods together within a class and restricting access to the data by providing public methods. It focuses on data protection and ensures that the internal state of an object is accessed and modified through controlled mechanisms.\"\"\""
   ]
  },
  {
   "cell_type": "code",
   "execution_count": 20,
   "id": "ba243c5e-eea5-4954-942c-bd60fd353df7",
   "metadata": {},
   "outputs": [],
   "source": [
    "class Car:\n",
    "    def __init__(self, make, model, year):\n",
    "        self.make = make\n",
    "        self.model = model\n",
    "        self.year = year\n",
    "        self.__mileage = 0  \n",
    "\n",
    "    def get_mileage(self):\n",
    "        return self.__mileage\n",
    "\n",
    "    def set_mileage(self, mileage):\n",
    "        if mileage >= 0:\n",
    "            self.__mileage = mileage"
   ]
  },
  {
   "cell_type": "code",
   "execution_count": 24,
   "id": "4ff866f7-c51b-43c2-bfd8-b49f0086c7a8",
   "metadata": {},
   "outputs": [],
   "source": [
    "import abc\n",
    "class Animal:\n",
    "    def __init__(self, name):\n",
    "        self.name = name\n",
    "\n",
    "    @abc.abstractmethod\n",
    "    def sound(self):\n",
    "        pass\n"
   ]
  },
  {
   "cell_type": "code",
   "execution_count": 25,
   "id": "f492b8c4-5e46-4202-bac1-638b6984158a",
   "metadata": {},
   "outputs": [],
   "source": [
    "class Dog(Animal):\n",
    "    def sound(self):\n",
    "        return \"Woof!\""
   ]
  },
  {
   "cell_type": "code",
   "execution_count": 26,
   "id": "9e81ad23-4026-4e5f-9f76-fe7a95f26a88",
   "metadata": {},
   "outputs": [],
   "source": [
    "class Cat(Animal):\n",
    "    def sound(self):\n",
    "        return \"Meow!\""
   ]
  },
  {
   "cell_type": "code",
   "execution_count": 27,
   "id": "4b1572f0-068e-4546-a140-f4933042d170",
   "metadata": {},
   "outputs": [],
   "source": [
    "my_car = Car(\"Honda\", \"Civic\", 2021)"
   ]
  },
  {
   "cell_type": "code",
   "execution_count": 29,
   "id": "f0f6d3ea-e432-4fea-b656-f25930d5d65b",
   "metadata": {},
   "outputs": [],
   "source": [
    "my_car.set_mileage(5000)"
   ]
  },
  {
   "cell_type": "code",
   "execution_count": 30,
   "id": "f448291b-e54d-48ba-b4db-f88236d3d029",
   "metadata": {},
   "outputs": [
    {
     "name": "stdout",
     "output_type": "stream",
     "text": [
      "5000\n"
     ]
    }
   ],
   "source": [
    "print(my_car.get_mileage()) "
   ]
  },
  {
   "cell_type": "code",
   "execution_count": null,
   "id": "5086964e-9d1a-43ab-a2fb-bcbb69f8efd7",
   "metadata": {},
   "outputs": [],
   "source": []
  },
  {
   "cell_type": "code",
   "execution_count": null,
   "id": "998ff193-252b-423a-8b2a-417f02881f5d",
   "metadata": {},
   "outputs": [],
   "source": []
  },
  {
   "cell_type": "code",
   "execution_count": null,
   "id": "1e8421a6-2e8a-4b21-909d-381b745f03f0",
   "metadata": {},
   "outputs": [],
   "source": []
  },
  {
   "cell_type": "code",
   "execution_count": 5,
   "id": "f2fbc3fb-42b1-41a6-a9e7-c188654c443a",
   "metadata": {},
   "outputs": [],
   "source": [
    "##What is the abc module in Python? Why is it used?"
   ]
  },
  {
   "cell_type": "code",
   "execution_count": 8,
   "id": "8458d8da-9313-4283-9c5f-ce4045eb5c28",
   "metadata": {},
   "outputs": [
    {
     "data": {
      "text/plain": [
       "'module in Python stands for \"Abstract Base Classes.\" It provides the infrastructure for defining abstract base classes, which are classes that cannot be instantiated directly and are intended to be subclassed by other classes. abc module is used to create abstract base classes by inheriting from the ABC Abstract Base Class) class provided by the module. Abstract base classes serve as a way to define a common interface or contract that subclasses must adhere to. They allow defining methods that must be implemented by the subclasses, enforcing a certain structure and behavior.\\nBy using the \\n abc  module, developers can create abstract base classes and define abstract methods that subclasses must implement. This promotes code organization, standardization, and helps in designing class hierarchies.'"
      ]
     },
     "execution_count": 8,
     "metadata": {},
     "output_type": "execute_result"
    }
   ],
   "source": [
    "\"\"\"module in Python stands for \"Abstract Base Classes.\" It provides the infrastructure for defining abstract base classes, which are classes that cannot be instantiated directly and are intended to be subclassed by other classes. abc module is used to create abstract base classes by inheriting from the ABC Abstract Base Class) class provided by the module. Abstract base classes serve as a way to define a common interface or contract that subclasses must adhere to. They allow defining methods that must be implemented by the subclasses, enforcing a certain structure and behavior.\n",
    "By using the \n",
    " abc  module, developers can create abstract base classes and define abstract methods that subclasses must implement. This promotes code organization, standardization, and helps in designing class hierarchies.\"\"\""
   ]
  },
  {
   "cell_type": "code",
   "execution_count": 9,
   "id": "c2f84438-d4b2-4ad0-8baa-aa1303b2cf52",
   "metadata": {},
   "outputs": [],
   "source": [
    "## How can we achieve data abstraction?"
   ]
  },
  {
   "cell_type": "code",
   "execution_count": 10,
   "id": "db05b74f-9b70-41b5-b0ca-4d2442c4e0a9",
   "metadata": {},
   "outputs": [
    {
     "data": {
      "text/plain": [
       "'Data abstraction can be achieved in object-oriented programming through the use of classes and objects. Here are some techniques to achieve data abstraction:\\nEncapsulation\\nAccess Modifiers\\nAbstract Classes and Interfaces'"
      ]
     },
     "execution_count": 10,
     "metadata": {},
     "output_type": "execute_result"
    }
   ],
   "source": [
    "\"\"\"Data abstraction can be achieved in object-oriented programming through the use of classes and objects. Here are some techniques to achieve data abstraction:\n",
    "Encapsulation\n",
    "Access Modifiers\n",
    "Abstract Classes and Interfaces\"\"\"\n"
   ]
  },
  {
   "cell_type": "code",
   "execution_count": 11,
   "id": "8deb7745-6541-4e9e-8654-9c5732c24da8",
   "metadata": {},
   "outputs": [],
   "source": [
    "##Can we create an instance of an abstract class? Explain your answer."
   ]
  },
  {
   "cell_type": "code",
   "execution_count": 12,
   "id": "9b844bf8-8497-4b3e-8519-416cee2885f9",
   "metadata": {},
   "outputs": [
    {
     "data": {
      "text/plain": [
       "'No, we cannot create an instance of an abstract class. An abstract class is a class that is meant to be subclassed and cannot be instantiated directly\\nAn abstract class is created using the abc module in Python by inheriting from the  ABC class and using the @abstractmethod \\ndecorator to define abstract methods. Abstract methods are methods that have no implementation in the abstract class and must be implemented by the subclasses.\\nThe purpose of an abstract class is to define a common interface or contract for its subclasses, ensuring that they implement the required methods. Subclasses of an abstract class can be instantiated, and they provide the concrete implementation of the abstract methods defined in the abstract class.\\nAttempting to create an instance of an abstract class directly will result in a TypeError.\\nThe intention is to use the abstract class as a blueprint for creating subclasses and to provide a common structure and behavior among them.'"
      ]
     },
     "execution_count": 12,
     "metadata": {},
     "output_type": "execute_result"
    }
   ],
   "source": [
    "\"\"\"No, we cannot create an instance of an abstract class. An abstract class is a class that is meant to be subclassed and cannot be instantiated directly\n",
    "An abstract class is created using the abc module in Python by inheriting from the  ABC class and using the @abstractmethod \n",
    "decorator to define abstract methods. Abstract methods are methods that have no implementation in the abstract class and must be implemented by the subclasses.\n",
    "The purpose of an abstract class is to define a common interface or contract for its subclasses, ensuring that they implement the required methods. Subclasses of an abstract class can be instantiated, and they provide the concrete implementation of the abstract methods defined in the abstract class.\n",
    "Attempting to create an instance of an abstract class directly will result in a TypeError.\n",
    "The intention is to use the abstract class as a blueprint for creating subclasses and to provide a common structure and behavior among them.\"\"\""
   ]
  },
  {
   "cell_type": "code",
   "execution_count": null,
   "id": "90bcd5c3-3545-4035-9ef4-6aeaaad6067c",
   "metadata": {},
   "outputs": [],
   "source": []
  }
 ],
 "metadata": {
  "kernelspec": {
   "display_name": "Python 3 (ipykernel)",
   "language": "python",
   "name": "python3"
  },
  "language_info": {
   "codemirror_mode": {
    "name": "ipython",
    "version": 3
   },
   "file_extension": ".py",
   "mimetype": "text/x-python",
   "name": "python",
   "nbconvert_exporter": "python",
   "pygments_lexer": "ipython3",
   "version": "3.10.8"
  }
 },
 "nbformat": 4,
 "nbformat_minor": 5
}
